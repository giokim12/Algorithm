{
 "cells": [
  {
   "cell_type": "code",
   "execution_count": null,
   "metadata": {},
   "outputs": [],
   "source": [
    "# 나이 정보가 없는 회원 수\n",
    "# SELECT COUNT(*)-COUNT(AGE)\n",
    "# FROM USER_INFO\n"
   ]
  },
  {
   "cell_type": "code",
   "execution_count": null,
   "metadata": {},
   "outputs": [],
   "source": [
    "# 동물 수 구하기\n",
    "# SELECT COUNT(*) FROM ANIMAL_INS"
   ]
  },
  {
   "cell_type": "code",
   "execution_count": null,
   "metadata": {},
   "outputs": [],
   "source": [
    "# 이름에 EL이 들어가는 동물 찾기\n",
    "# SELECT ANIMAL_ID,NAME FROM ANIMAL_INS\n",
    "# WHERE NAME LIKE '%EL%' AND ANIMAL_TYPE='Dog'\n",
    "# ORDER BY NAME ASC"
   ]
  }
 ],
 "metadata": {
  "language_info": {
   "name": "python"
  },
  "orig_nbformat": 4
 },
 "nbformat": 4,
 "nbformat_minor": 2
}
