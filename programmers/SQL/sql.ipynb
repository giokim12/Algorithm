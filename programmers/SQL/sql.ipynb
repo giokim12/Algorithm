{
 "cells": [
  {
   "cell_type": "code",
   "execution_count": null,
   "metadata": {},
   "outputs": [],
   "source": [
    "# 나이 정보가 없는 회원 수\n",
    "# SELECT COUNT(*)-COUNT(AGE)\n",
    "# FROM USER_INFO\n"
   ]
  },
  {
   "cell_type": "code",
   "execution_count": null,
   "metadata": {},
   "outputs": [],
   "source": [
    "# 동물 수 구하기\n",
    "# SELECT COUNT(*) FROM ANIMAL_INS"
   ]
  },
  {
   "cell_type": "code",
   "execution_count": null,
   "metadata": {},
   "outputs": [],
   "source": [
    "# 이름에 EL이 들어가는 동물 찾기\n",
    "# SELECT ANIMAL_ID,NAME FROM ANIMAL_INS\n",
    "# WHERE NAME LIKE '%EL%' AND ANIMAL_TYPE='Dog'\n",
    "# ORDER BY NAME ASC"
   ]
  },
  {
   "cell_type": "code",
   "execution_count": null,
   "metadata": {},
   "outputs": [],
   "source": [
    "# 고양이와 개는 몇마리 있을까\n",
    "# SELECT ANIMAL_TYPE, COUNT(ANIMAL_TYPE) AS count FROM ANIMAL_INS\n",
    "# GROUP BY ANIMAL_TYPE\n",
    "# ORDER BY ANIMAL_TYPE ASC"
   ]
  },
  {
   "cell_type": "code",
   "execution_count": null,
   "metadata": {},
   "outputs": [],
   "source": [
    "# NULL 처리하기\n",
    "# SELECT ANIMAL_TYPE, IFNULL(NAME, 'No name'), SEX_UPON_INTAKE FROM ANIMAL_INS\n",
    "# ORDER BY ANIMAL_ID"
   ]
  },
  {
   "cell_type": "code",
   "execution_count": null,
   "metadata": {},
   "outputs": [],
   "source": [
    "# 여러 기준으로 정렬하기\n",
    "#  SELECT ANIMAL_ID, NAME, DATETIME FROM ANIMAL_INS\n",
    "# ORDER BY NAME ASC, DATETIME DESC"
   ]
  },
  {
   "cell_type": "code",
   "execution_count": null,
   "metadata": {},
   "outputs": [],
   "source": [
    "# 어린 동물 찾기\n",
    "# SELECT ANIMAL_ID, NAME FROM ANIMAL_INS\n",
    "# WHERE INTAKE_CONDITION != 'Aged'"
   ]
  },
  {
   "cell_type": "code",
   "execution_count": null,
   "metadata": {},
   "outputs": [],
   "source": [
    "# 아픈동물 찾기\n",
    "# SELECT ANIMAL_ID, NAME FROM ANIMAL_INS\n",
    "# WHERE INTAKE_CONDITION = 'Sick'\n"
   ]
  },
  {
   "cell_type": "code",
   "execution_count": null,
   "metadata": {},
   "outputs": [],
   "source": [
    "# 가격이 제일 비싼 식품의 정보 출력하기\n",
    "# SELECT PRODUCT_ID, PRODUCT_NAME, PRODUCT_CD, CATEGORY, PRICE FROM FOOD_PRODUCT\n",
    "# ORDER BY PRICE DESC\n",
    "# LIMIT 1"
   ]
  },
  {
   "cell_type": "code",
   "execution_count": null,
   "metadata": {},
   "outputs": [],
   "source": [
    "# 상위 N개 레코드\n",
    "# SELECT NAME FROM ANIMAL_INS\n",
    "# ORDER BY DATETIME ASC\n",
    "# LIMIT 1"
   ]
  },
  {
   "cell_type": "code",
   "execution_count": null,
   "metadata": {},
   "outputs": [],
   "source": [
    "# 역순 정렬하기\n",
    "# SELECT NAME, DATETIME FROM ANIMAL_INS\n",
    "# ORDER BY ANIMAL_ID DESC"
   ]
  },
  {
   "cell_type": "code",
   "execution_count": null,
   "metadata": {},
   "outputs": [],
   "source": [
    "# 최소값 구하기\n",
    "# SELECT DATETIME FROM ANIMAL_INS\n",
    "# ORDER BY DATETIME ASC\n",
    "# LIMIT 1"
   ]
  },
  {
   "cell_type": "code",
   "execution_count": null,
   "metadata": {},
   "outputs": [],
   "source": [
    "# 중복 제거하기\n",
    "# SELECT COUNT(DISTINCT(NAME)) FROM ANIMAL_INS"
   ]
  },
  {
   "cell_type": "code",
   "execution_count": null,
   "metadata": {},
   "outputs": [],
   "source": [
    "# 동명 동물 수 찾기\n",
    "# SELECT NAME, COUNT(NAME) AS 'COUNT' FROM ANIMAL_INS\n",
    "# GROUP BY NAME\n",
    "# HAVING COUNT(NAME)>1\n",
    "# ORDER BY NAME ASC"
   ]
  },
  {
   "cell_type": "code",
   "execution_count": null,
   "metadata": {},
   "outputs": [],
   "source": [
    "# 자동차 평균 대여기간 구하기!!!!!!!!!!!!!!!!\n",
    "# SELECT CAR_ID, ROUND(AVG(DATEDIFF(END_DATE, START_DATE)+1), 1) AS AVERAGE_DURATION\n",
    "# FROM CAR_RENTAL_COMPANY_RENTAL_HISTORY\n",
    "# GROUP BY CAR_ID\n",
    "# HAVING AVERAGE_DURATION >=7\n",
    "# ORDER BY AVERAGE_DURATION DESC, CAR_ID DESC\n",
    "# https://monawa.tistory.com/119"
   ]
  },
  {
   "cell_type": "code",
   "execution_count": null,
   "metadata": {},
   "outputs": [],
   "source": [
    "# DATETIME에서 DATE로 형 변환\n",
    "# SELECT ANIMAL_ID, NAME, DATE_FORMAT(DATETIME,'%Y-%m-%d') AS '날짜' FROM ANIMAL_INS"
   ]
  }
 ],
 "metadata": {
  "language_info": {
   "name": "python"
  },
  "orig_nbformat": 4
 },
 "nbformat": 4,
 "nbformat_minor": 2
}
