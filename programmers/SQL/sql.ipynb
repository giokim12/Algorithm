{
 "cells": [
  {
   "cell_type": "code",
   "execution_count": null,
   "metadata": {},
   "outputs": [],
   "source": [
    "# 나이 정보가 없는 회원 수\n",
    "# SELECT COUNT(*)-COUNT(AGE)\n",
    "# FROM USER_INFO\n"
   ]
  },
  {
   "cell_type": "code",
   "execution_count": null,
   "metadata": {},
   "outputs": [],
   "source": [
    "# 동물 수 구하기\n",
    "# SELECT COUNT(*) FROM ANIMAL_INS"
   ]
  },
  {
   "cell_type": "code",
   "execution_count": null,
   "metadata": {},
   "outputs": [],
   "source": [
    "# 이름에 EL이 들어가는 동물 찾기\n",
    "# SELECT ANIMAL_ID,NAME FROM ANIMAL_INS\n",
    "# WHERE NAME LIKE '%EL%' AND ANIMAL_TYPE='Dog'\n",
    "# ORDER BY NAME ASC"
   ]
  },
  {
   "cell_type": "code",
   "execution_count": null,
   "metadata": {},
   "outputs": [],
   "source": [
    "# 고양이와 개는 몇마리 있을까\n",
    "# SELECT ANIMAL_TYPE, COUNT(ANIMAL_TYPE) AS count FROM ANIMAL_INS\n",
    "# GROUP BY ANIMAL_TYPE\n",
    "# ORDER BY ANIMAL_TYPE ASC"
   ]
  },
  {
   "cell_type": "code",
   "execution_count": null,
   "metadata": {},
   "outputs": [],
   "source": [
    "# NULL 처리하기\n",
    "# SELECT ANIMAL_TYPE, IFNULL(NAME, 'No name'), SEX_UPON_INTAKE FROM ANIMAL_INS\n",
    "# ORDER BY ANIMAL_ID"
   ]
  },
  {
   "cell_type": "code",
   "execution_count": null,
   "metadata": {},
   "outputs": [],
   "source": [
    "# 여러 기준으로 정렬하기\n",
    "#  SELECT ANIMAL_ID, NAME, DATETIME FROM ANIMAL_INS\n",
    "# ORDER BY NAME ASC, DATETIME DESC"
   ]
  },
  {
   "cell_type": "code",
   "execution_count": null,
   "metadata": {},
   "outputs": [],
   "source": [
    "# 어린 동물 찾기\n",
    "# SELECT ANIMAL_ID, NAME FROM ANIMAL_INS\n",
    "# WHERE INTAKE_CONDITION != 'Aged'"
   ]
  },
  {
   "cell_type": "code",
   "execution_count": null,
   "metadata": {},
   "outputs": [],
   "source": [
    "# 아픈동물 찾기\n",
    "# SELECT ANIMAL_ID, NAME FROM ANIMAL_INS\n",
    "# WHERE INTAKE_CONDITION = 'Sick'"
   ]
  }
 ],
 "metadata": {
  "language_info": {
   "name": "python"
  },
  "orig_nbformat": 4
 },
 "nbformat": 4,
 "nbformat_minor": 2
}
